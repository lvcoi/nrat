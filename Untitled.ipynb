{
 "cells": [
  {
   "cell_type": "code",
   "execution_count": null,
   "id": "fa7bea56-8b9b-4680-9c3b-18dbd024dd81",
   "metadata": {},
   "outputs": [],
   "source": [
    "from nrat.network_scanner import NetworkScanner\n",
    "from nrat.utils import execute_tasks\n",
    "target = '192.168.12.0/24'\n",
    "scanner = NetworkScanner()\n",
    "scanner.validate_target()\n",
    "\n"
   ]
  },
  {
   "cell_type": "code",
   "execution_count": 22,
   "id": "a61e0325",
   "metadata": {},
   "outputs": [
    {
     "name": "stderr",
     "output_type": "stream",
     "text": [
      "WARNING:root:Task execution error: NetworkScanner.arp_scan() takes 1 positional argument but 2 were given\n"
     ]
    },
    {
     "name": "stdout",
     "output_type": "stream",
     "text": [
      "[]\n"
     ]
    }
   ],
   "source": [
    "execute_tasks(tasks = [], max_workers=50)\n",
    "tasks = []\n",
    "if scanner.arp_scan:\n",
    "        \n",
    "        tasks.append((scanner.arp_scan, target))\n",
    "\n",
    "print(f\"{execute_tasks(tasks, max_workers=50)}\")"
   ]
  },
  {
   "cell_type": "code",
   "execution_count": null,
   "id": "de5f6f3e",
   "metadata": {},
   "outputs": [],
   "source": []
  }
 ],
 "metadata": {
  "kernelspec": {
   "display_name": "Python 3 (ipykernel)",
   "language": "python",
   "name": "python3"
  },
  "language_info": {
   "codemirror_mode": {
    "name": "ipython",
    "version": 3
   },
   "file_extension": ".py",
   "mimetype": "text/x-python",
   "name": "python",
   "nbconvert_exporter": "python",
   "pygments_lexer": "ipython3",
   "version": "3.11.2"
  }
 },
 "nbformat": 4,
 "nbformat_minor": 5
}
